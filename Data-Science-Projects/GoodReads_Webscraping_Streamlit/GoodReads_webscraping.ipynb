{
 "cells": [
  {
   "cell_type": "markdown",
   "metadata": {},
   "source": [
    "## Webscraping using requests and BeautifulSoup\n",
    "Get the list of top 15 books every year for the last 10 years from Goodreads page"
   ]
  },
  {
   "cell_type": "code",
   "execution_count": 1,
   "metadata": {},
   "outputs": [],
   "source": [
    "import pandas as pd\n",
    "from bs4 import BeautifulSoup\n",
    "import requests\n",
    "import re\n",
    "\n",
    "import matplotlib.pyplot as plt\n",
    "import seaborn as sns\n",
    "import numpy as np"
   ]
  },
  {
   "cell_type": "markdown",
   "metadata": {},
   "source": [
    "# USING request"
   ]
  },
  {
   "cell_type": "code",
   "execution_count": 2,
   "metadata": {},
   "outputs": [],
   "source": [
    "# initialize the empty lists\n",
    "author_list = []\n",
    "title_list = []\n",
    "synopsis_list = []\n",
    "year_list = []\n",
    "avg_ratings_list = []\n",
    "shelving_list = []\n",
    "rating_count_list = []\n",
    "\n",
    "for year in range(2012, 2022):\n",
    "    url = 'https://www.goodreads.com/book/popular_by_date/'+str(year)\n",
    "    #print(url)\n",
    "    data = requests.get(url).text\n",
    "    soup = BeautifulSoup(data, 'html5lib')\n",
    "    for i in soup.find_all('article', {'class': 'BookListItem'}):\n",
    "        # this is the main data slab that you want to get for each book\n",
    "        # and then from there you can pick up the items that you want to scrape.\n",
    "\n",
    "        # find the author data\n",
    "        author = i.find('span', {'class': 'ContributorLink__name'})\n",
    "        if author is not None:\n",
    "            author_list.append(author.text)\n",
    "        \n",
    "        # find the title data\n",
    "        title = i.find('h3', {'class': \"Text Text__title3 Text__umber\"})\n",
    "        if title is not None:\n",
    "            title_list.append(title.text)\n",
    "        \n",
    "        # find the abstract data\n",
    "        synopsis = i.find('span', {'class': 'Formatted'})\n",
    "        if synopsis is not None:\n",
    "            synopsis_list.append(synopsis.text)\n",
    "\n",
    "        # find the average rating data\n",
    "        ratings = i.find('span', {\"class\": \"AverageRating__ratingValue\"})\n",
    "        if ratings is not None:\n",
    "            avg_ratings_list.append(ratings.text)\n",
    "\n",
    "        # find number of ratings given : ratings count\n",
    "        ratingCount = i.find('span', {'class': \"Text Text__body3 Text__subdued\"})\n",
    "        if ratingCount is not None:\n",
    "            rating_count_list.append(ratingCount.text)\n",
    "\n",
    "        # find the number of shelvings\n",
    "        shelvings = i.find(text= re.compile(r\"shelvings$\"))\n",
    "        if shelvings is not None:\n",
    "            shelving_list.append(shelvings)\n",
    "\n",
    "        # get the year data\n",
    "        year_list.append(year)\n"
   ]
  },
  {
   "cell_type": "markdown",
   "metadata": {
    "pycharm": {
     "name": "#%% md\n"
    }
   },
   "source": [
    "## Create the dataframe using the values we scrapped."
   ]
  },
  {
   "cell_type": "code",
   "execution_count": 5,
   "metadata": {},
   "outputs": [],
   "source": [
    "book_df = pd.DataFrame({\"Year\": year_list, \"Title\": title_list,\n",
    "                       \"Author\": author_list, \"Avg rating\":avg_ratings_list, \"Rating Count\":rating_count_list ,\n",
    "                        \"Shelvings\":shelving_list, \"Review\": synopsis_list})\n",
    "\n",
    "# to save the dataset\n",
    "book_df.to_csv('gr_booklist_df.csv', index=False, header=True)"
   ]
  },
  {
   "cell_type": "code",
   "execution_count": 6,
   "metadata": {},
   "outputs": [
    {
     "name": "stdout",
     "output_type": "stream",
     "text": [
      "<class 'pandas.core.frame.DataFrame'>\n",
      "RangeIndex: 141 entries, 0 to 140\n",
      "Data columns (total 7 columns):\n",
      " #   Column        Non-Null Count  Dtype \n",
      "---  ------        --------------  ----- \n",
      " 0   Year          141 non-null    int64 \n",
      " 1   Title         141 non-null    object\n",
      " 2   Author        141 non-null    object\n",
      " 3   Avg rating    141 non-null    object\n",
      " 4   Rating Count  141 non-null    object\n",
      " 5   Shelvings     141 non-null    object\n",
      " 6   Review        141 non-null    object\n",
      "dtypes: int64(1), object(6)\n",
      "memory usage: 7.8+ KB\n"
     ]
    },
    {
     "data": {
      "text/html": [
       "<div>\n",
       "<style scoped>\n",
       "    .dataframe tbody tr th:only-of-type {\n",
       "        vertical-align: middle;\n",
       "    }\n",
       "\n",
       "    .dataframe tbody tr th {\n",
       "        vertical-align: top;\n",
       "    }\n",
       "\n",
       "    .dataframe thead th {\n",
       "        text-align: right;\n",
       "    }\n",
       "</style>\n",
       "<table border=\"1\" class=\"dataframe\">\n",
       "  <thead>\n",
       "    <tr style=\"text-align: right;\">\n",
       "      <th></th>\n",
       "      <th>Year</th>\n",
       "      <th>Title</th>\n",
       "      <th>Author</th>\n",
       "      <th>Avg rating</th>\n",
       "      <th>Rating Count</th>\n",
       "      <th>Shelvings</th>\n",
       "      <th>Review</th>\n",
       "    </tr>\n",
       "  </thead>\n",
       "  <tbody>\n",
       "    <tr>\n",
       "      <th>0</th>\n",
       "      <td>2012</td>\n",
       "      <td>The Fault in Our Stars</td>\n",
       "      <td>John Green</td>\n",
       "      <td>4.18</td>\n",
       "      <td>4m ratings</td>\n",
       "      <td>5m shelvings</td>\n",
       "      <td>Despite the tumor-shrinking medical miracle th...</td>\n",
       "    </tr>\n",
       "    <tr>\n",
       "      <th>1</th>\n",
       "      <td>2012</td>\n",
       "      <td>Gone Girl</td>\n",
       "      <td>Gillian Flynn</td>\n",
       "      <td>4.09</td>\n",
       "      <td>3m ratings</td>\n",
       "      <td>2m shelvings</td>\n",
       "      <td>Marriage can be a real killer.On a warm summer...</td>\n",
       "    </tr>\n",
       "    <tr>\n",
       "      <th>2</th>\n",
       "      <td>2012</td>\n",
       "      <td>Eleanor &amp; Park</td>\n",
       "      <td>Rainbow Rowell</td>\n",
       "      <td>4</td>\n",
       "      <td>976k ratings</td>\n",
       "      <td>2m shelvings</td>\n",
       "      <td>Eleanor is the new girl in town, and with her ...</td>\n",
       "    </tr>\n",
       "    <tr>\n",
       "      <th>3</th>\n",
       "      <td>2012</td>\n",
       "      <td>The Selection (The Selection, #1)</td>\n",
       "      <td>Kiera Cass</td>\n",
       "      <td>4.11</td>\n",
       "      <td>1m ratings</td>\n",
       "      <td>2m shelvings</td>\n",
       "      <td>For thirty-five girls, the Selection is the ch...</td>\n",
       "    </tr>\n",
       "    <tr>\n",
       "      <th>4</th>\n",
       "      <td>2012</td>\n",
       "      <td>Insurgent (Divergent, #2)</td>\n",
       "      <td>Veronica Roth</td>\n",
       "      <td>4</td>\n",
       "      <td>1m ratings</td>\n",
       "      <td>2m shelvings</td>\n",
       "      <td>One choice can transform you—or it can destroy...</td>\n",
       "    </tr>\n",
       "  </tbody>\n",
       "</table>\n",
       "</div>"
      ],
      "text/plain": [
       "   Year                              Title          Author Avg rating  \\\n",
       "0  2012             The Fault in Our Stars      John Green       4.18   \n",
       "1  2012                          Gone Girl   Gillian Flynn       4.09   \n",
       "2  2012                     Eleanor & Park  Rainbow Rowell          4   \n",
       "3  2012  The Selection (The Selection, #1)      Kiera Cass       4.11   \n",
       "4  2012          Insurgent (Divergent, #2)   Veronica Roth          4   \n",
       "\n",
       "   Rating Count     Shelvings  \\\n",
       "0    4m ratings  5m shelvings   \n",
       "1    3m ratings  2m shelvings   \n",
       "2  976k ratings  2m shelvings   \n",
       "3    1m ratings  2m shelvings   \n",
       "4    1m ratings  2m shelvings   \n",
       "\n",
       "                                              Review  \n",
       "0  Despite the tumor-shrinking medical miracle th...  \n",
       "1  Marriage can be a real killer.On a warm summer...  \n",
       "2  Eleanor is the new girl in town, and with her ...  \n",
       "3  For thirty-five girls, the Selection is the ch...  \n",
       "4  One choice can transform you—or it can destroy...  "
      ]
     },
     "execution_count": 6,
     "metadata": {},
     "output_type": "execute_result"
    }
   ],
   "source": [
    "book_df.info()\n",
    "book_df.head(5)"
   ]
  },
  {
   "cell_type": "markdown",
   "metadata": {
    "pycharm": {
     "name": "#%% md\n"
    }
   },
   "source": [
    "Now, we can see that the three columns: Avg rating, Rating Count and Shelvings should be in numerical format\n",
    "but they are in object format. We need to change that.\n",
    "** for Avg rating column it is going to be easy since it has only numbers,\n",
    "** but for the other two, they have text in the data as well, so we need to extract the numerical values."
   ]
  },
  {
   "cell_type": "code",
   "execution_count": 5,
   "metadata": {
    "pycharm": {
     "name": "#%%\n"
    }
   },
   "outputs": [
    {
     "name": "stdout",
     "output_type": "stream",
     "text": [
      "<class 'pandas.core.frame.DataFrame'>\n",
      "RangeIndex: 165 entries, 0 to 164\n",
      "Data columns (total 7 columns):\n",
      " #   Column        Non-Null Count  Dtype  \n",
      "---  ------        --------------  -----  \n",
      " 0   Year          165 non-null    int64  \n",
      " 1   Title         165 non-null    object \n",
      " 2   Author        165 non-null    object \n",
      " 3   Avg rating    165 non-null    float64\n",
      " 4   Rating Count  165 non-null    object \n",
      " 5   Shelvings     165 non-null    object \n",
      " 6   Review        165 non-null    object \n",
      "dtypes: float64(1), int64(1), object(5)\n",
      "memory usage: 9.1+ KB\n"
     ]
    }
   ],
   "source": [
    "# convert Avg rating column to numerical format\n",
    "book_df[\"Avg rating\"] = book_df[\"Avg rating\"].astype(float)\n",
    "book_df.info()"
   ]
  },
  {
   "cell_type": "code",
   "execution_count": 6,
   "metadata": {
    "collapsed": false,
    "jupyter": {
     "outputs_hidden": false
    },
    "pycharm": {
     "name": "#%%\n"
    }
   },
   "outputs": [
    {
     "data": {
      "text/plain": [
       "0        4m\n",
       "1        3m\n",
       "2      976k\n",
       "3        1m\n",
       "4        1m\n",
       "       ... \n",
       "160     290\n",
       "161     268\n",
       "162      54\n",
       "163      78\n",
       "164      51\n",
       "Name: Rating Count, Length: 165, dtype: object"
      ]
     },
     "execution_count": 6,
     "metadata": {},
     "output_type": "execute_result"
    }
   ],
   "source": [
    "# check the ratings count column\n",
    "book_df[\"Rating Count\"] = book_df[\"Rating Count\"].str.split(' ').str[0]\n",
    "book_df[\"Rating Count\"]"
   ]
  },
  {
   "cell_type": "code",
   "execution_count": 7,
   "metadata": {
    "collapsed": false,
    "jupyter": {
     "outputs_hidden": false
    },
    "pycharm": {
     "name": "#%%\n"
    }
   },
   "outputs": [
    {
     "data": {
      "text/plain": [
       "0        5m\n",
       "1        2m\n",
       "2        2m\n",
       "3        2m\n",
       "4        2m\n",
       "       ... \n",
       "160    9632\n",
       "161    8634\n",
       "162    8522\n",
       "163    7786\n",
       "164    7435\n",
       "Name: Shelvings, Length: 165, dtype: object"
      ]
     },
     "execution_count": 7,
     "metadata": {},
     "output_type": "execute_result"
    }
   ],
   "source": [
    "# check the shelvings column\n",
    "book_df[\"Shelvings\"] = book_df[\"Shelvings\"].str.split(' ').str[0]\n",
    "\n",
    "\"\"\"now we need to remove the commas in the numbers OTHERWISE they will create problem when we will convert them to numbers \"\"\"\n",
    "\n",
    "book_df['Shelvings'] = book_df['Shelvings'].str.replace(',', '')\n",
    "book_df['Shelvings']\n"
   ]
  },
  {
   "cell_type": "code",
   "execution_count": 8,
   "metadata": {
    "collapsed": false,
    "jupyter": {
     "outputs_hidden": false
    },
    "pycharm": {
     "name": "#%%\n"
    }
   },
   "outputs": [],
   "source": [
    "# now we have m and k in the values in Rating count and Shelvings columns. we need to change that to m = 1000000 and k = 1000\n",
    "\n",
    "book_df[\"Rating Count\"] = book_df[\"Rating Count\"].replace({'k':'*1e3', 'm':'*1e6'}, regex=True).map(pd.eval).astype(int)\n",
    "book_df['Shelvings'] = book_df['Shelvings'].replace({'k': '*1e3', 'm': '*1e6'}, regex=True).map(pd.eval).astype(int)"
   ]
  },
  {
   "cell_type": "code",
   "execution_count": 9,
   "metadata": {
    "collapsed": false,
    "jupyter": {
     "outputs_hidden": false
    },
    "pycharm": {
     "name": "#%%\n"
    }
   },
   "outputs": [
    {
     "data": {
      "text/html": [
       "<div>\n",
       "<style scoped>\n",
       "    .dataframe tbody tr th:only-of-type {\n",
       "        vertical-align: middle;\n",
       "    }\n",
       "\n",
       "    .dataframe tbody tr th {\n",
       "        vertical-align: top;\n",
       "    }\n",
       "\n",
       "    .dataframe thead th {\n",
       "        text-align: right;\n",
       "    }\n",
       "</style>\n",
       "<table border=\"1\" class=\"dataframe\">\n",
       "  <thead>\n",
       "    <tr style=\"text-align: right;\">\n",
       "      <th></th>\n",
       "      <th>Year</th>\n",
       "      <th>Title</th>\n",
       "      <th>Author</th>\n",
       "      <th>Avg rating</th>\n",
       "      <th>Rating Count</th>\n",
       "      <th>Shelvings</th>\n",
       "      <th>Review</th>\n",
       "    </tr>\n",
       "  </thead>\n",
       "  <tbody>\n",
       "    <tr>\n",
       "      <th>0</th>\n",
       "      <td>2012</td>\n",
       "      <td>The Fault in Our Stars</td>\n",
       "      <td>John Green</td>\n",
       "      <td>4.18</td>\n",
       "      <td>4000000</td>\n",
       "      <td>5000000</td>\n",
       "      <td>Despite the tumor-shrinking medical miracle th...</td>\n",
       "    </tr>\n",
       "    <tr>\n",
       "      <th>1</th>\n",
       "      <td>2012</td>\n",
       "      <td>Gone Girl</td>\n",
       "      <td>Gillian Flynn</td>\n",
       "      <td>4.09</td>\n",
       "      <td>3000000</td>\n",
       "      <td>2000000</td>\n",
       "      <td>Marriage can be a real killer.On a warm summer...</td>\n",
       "    </tr>\n",
       "    <tr>\n",
       "      <th>2</th>\n",
       "      <td>2012</td>\n",
       "      <td>Eleanor &amp; Park</td>\n",
       "      <td>Rainbow Rowell</td>\n",
       "      <td>4.00</td>\n",
       "      <td>976000</td>\n",
       "      <td>2000000</td>\n",
       "      <td>Eleanor is the new girl in town, and with her ...</td>\n",
       "    </tr>\n",
       "    <tr>\n",
       "      <th>3</th>\n",
       "      <td>2012</td>\n",
       "      <td>The Selection (The Selection, #1)</td>\n",
       "      <td>Kiera Cass</td>\n",
       "      <td>4.11</td>\n",
       "      <td>1000000</td>\n",
       "      <td>2000000</td>\n",
       "      <td>For thirty-five girls, the Selection is the ch...</td>\n",
       "    </tr>\n",
       "    <tr>\n",
       "      <th>4</th>\n",
       "      <td>2012</td>\n",
       "      <td>Insurgent (Divergent, #2)</td>\n",
       "      <td>Veronica Roth</td>\n",
       "      <td>4.00</td>\n",
       "      <td>1000000</td>\n",
       "      <td>2000000</td>\n",
       "      <td>One choice can transform you—or it can destroy...</td>\n",
       "    </tr>\n",
       "  </tbody>\n",
       "</table>\n",
       "</div>"
      ],
      "text/plain": [
       "   Year                              Title          Author  Avg rating  \\\n",
       "0  2012             The Fault in Our Stars      John Green        4.18   \n",
       "1  2012                          Gone Girl   Gillian Flynn        4.09   \n",
       "2  2012                     Eleanor & Park  Rainbow Rowell        4.00   \n",
       "3  2012  The Selection (The Selection, #1)      Kiera Cass        4.11   \n",
       "4  2012          Insurgent (Divergent, #2)   Veronica Roth        4.00   \n",
       "\n",
       "   Rating Count  Shelvings                                             Review  \n",
       "0       4000000    5000000  Despite the tumor-shrinking medical miracle th...  \n",
       "1       3000000    2000000  Marriage can be a real killer.On a warm summer...  \n",
       "2        976000    2000000  Eleanor is the new girl in town, and with her ...  \n",
       "3       1000000    2000000  For thirty-five girls, the Selection is the ch...  \n",
       "4       1000000    2000000  One choice can transform you—or it can destroy...  "
      ]
     },
     "execution_count": 9,
     "metadata": {},
     "output_type": "execute_result"
    }
   ],
   "source": [
    "# let us finally check our data\n",
    "book_df.head()"
   ]
  },
  {
   "cell_type": "markdown",
   "metadata": {
    "pycharm": {
     "name": "#%%\n"
    }
   },
   "source": [
    "Seems, the data is in order now. So, we can move forward to visualize it further. "
   ]
  },
  {
   "cell_type": "markdown",
   "metadata": {},
   "source": [
    "## Data visualization"
   ]
  },
  {
   "cell_type": "code",
   "execution_count": 10,
   "metadata": {},
   "outputs": [
    {
     "data": {
      "text/html": [
       "<div>\n",
       "<style scoped>\n",
       "    .dataframe tbody tr th:only-of-type {\n",
       "        vertical-align: middle;\n",
       "    }\n",
       "\n",
       "    .dataframe tbody tr th {\n",
       "        vertical-align: top;\n",
       "    }\n",
       "\n",
       "    .dataframe thead th {\n",
       "        text-align: right;\n",
       "    }\n",
       "</style>\n",
       "<table border=\"1\" class=\"dataframe\">\n",
       "  <thead>\n",
       "    <tr style=\"text-align: right;\">\n",
       "      <th></th>\n",
       "      <th>Avg rating</th>\n",
       "      <th>Rating Count</th>\n",
       "      <th>Shelvings</th>\n",
       "    </tr>\n",
       "    <tr>\n",
       "      <th>Year</th>\n",
       "      <th></th>\n",
       "      <th></th>\n",
       "      <th></th>\n",
       "    </tr>\n",
       "  </thead>\n",
       "  <tbody>\n",
       "    <tr>\n",
       "      <th>2012</th>\n",
       "      <td>4.130667</td>\n",
       "      <td>1.106533e+06</td>\n",
       "      <td>1.519067e+06</td>\n",
       "    </tr>\n",
       "    <tr>\n",
       "      <th>2013</th>\n",
       "      <td>4.014000</td>\n",
       "      <td>5.240667e+05</td>\n",
       "      <td>7.373333e+05</td>\n",
       "    </tr>\n",
       "    <tr>\n",
       "      <th>2014</th>\n",
       "      <td>4.148667</td>\n",
       "      <td>4.778000e+05</td>\n",
       "      <td>7.850000e+05</td>\n",
       "    </tr>\n",
       "    <tr>\n",
       "      <th>2015</th>\n",
       "      <td>4.163333</td>\n",
       "      <td>5.362000e+05</td>\n",
       "      <td>8.725333e+05</td>\n",
       "    </tr>\n",
       "    <tr>\n",
       "      <th>2016</th>\n",
       "      <td>4.102667</td>\n",
       "      <td>4.382667e+05</td>\n",
       "      <td>6.727333e+05</td>\n",
       "    </tr>\n",
       "    <tr>\n",
       "      <th>2017</th>\n",
       "      <td>4.158000</td>\n",
       "      <td>4.355333e+05</td>\n",
       "      <td>6.628000e+05</td>\n",
       "    </tr>\n",
       "    <tr>\n",
       "      <th>2018</th>\n",
       "      <td>4.153333</td>\n",
       "      <td>5.131333e+05</td>\n",
       "      <td>8.541333e+05</td>\n",
       "    </tr>\n",
       "    <tr>\n",
       "      <th>2019</th>\n",
       "      <td>4.100667</td>\n",
       "      <td>2.864000e+05</td>\n",
       "      <td>5.177333e+05</td>\n",
       "    </tr>\n",
       "    <tr>\n",
       "      <th>2020</th>\n",
       "      <td>4.122667</td>\n",
       "      <td>2.794000e+05</td>\n",
       "      <td>5.184667e+05</td>\n",
       "    </tr>\n",
       "    <tr>\n",
       "      <th>2021</th>\n",
       "      <td>4.079333</td>\n",
       "      <td>1.226533e+05</td>\n",
       "      <td>2.123333e+05</td>\n",
       "    </tr>\n",
       "    <tr>\n",
       "      <th>2022</th>\n",
       "      <td>4.364000</td>\n",
       "      <td>2.792000e+02</td>\n",
       "      <td>1.777140e+04</td>\n",
       "    </tr>\n",
       "  </tbody>\n",
       "</table>\n",
       "</div>"
      ],
      "text/plain": [
       "      Avg rating  Rating Count     Shelvings\n",
       "Year                                        \n",
       "2012    4.130667  1.106533e+06  1.519067e+06\n",
       "2013    4.014000  5.240667e+05  7.373333e+05\n",
       "2014    4.148667  4.778000e+05  7.850000e+05\n",
       "2015    4.163333  5.362000e+05  8.725333e+05\n",
       "2016    4.102667  4.382667e+05  6.727333e+05\n",
       "2017    4.158000  4.355333e+05  6.628000e+05\n",
       "2018    4.153333  5.131333e+05  8.541333e+05\n",
       "2019    4.100667  2.864000e+05  5.177333e+05\n",
       "2020    4.122667  2.794000e+05  5.184667e+05\n",
       "2021    4.079333  1.226533e+05  2.123333e+05\n",
       "2022    4.364000  2.792000e+02  1.777140e+04"
      ]
     },
     "execution_count": 10,
     "metadata": {},
     "output_type": "execute_result"
    }
   ],
   "source": [
    "# find the yearly average ratings \n",
    "book_df_mean = book_df.copy()\n",
    "\n",
    "book_df_mean.groupby(pd.Grouper(key = \"Year\")).mean()"
   ]
  },
  {
   "cell_type": "code",
   "execution_count": 11,
   "metadata": {},
   "outputs": [
    {
     "data": {
      "image/png": "[encoded data removed]",
      "text/plain": [
       "<Figure size 1368x864 with 4 Axes>"
      ]
     },
     "metadata": {
      "needs_background": "light"
     },
     "output_type": "display_data"
    }
   ],
   "source": [
    "book_df_sorted = book_df.groupby(\n",
    "    ['Author'], as_index=False).mean().sort_values('Avg rating', ascending=False)\n",
    "# here as_index is very important to use otherwise the column Author will be used as index and we don't want that here.\n",
    "\n",
    "plt.figure(figsize=(19, 12))\n",
    "plt.style.use('ggplot')\n",
    "sns.set(font_scale = 1.5)\n",
    "\n",
    "ax1 = plt.subplot(2,2,1)\n",
    "sns.boxplot(data=book_df_mean, x='Year', y=('Avg rating'))\n",
    "plt.ylabel(\"Average Ratings per year\")\n",
    "\n",
    "ax2 = plt.subplot(2,2,2)\n",
    "sns.lineplot(data=book_df_mean, x='Year', y=('Rating Count'))\n",
    "\n",
    "ax3 = plt.subplot(2,2,3)\n",
    "sns.barplot(data = book_df_mean, x='Year', y = \"Shelvings\")\n",
    "\n",
    "ax4 = plt.subplot(2,2,4)\n",
    "sns.barplot(data=book_df_sorted[:10], x='Author', y='Avg rating')\n",
    "plt.setp(ax4.get_xticklabels(), rotation=45, ha = 'right')\n",
    "for patch in ax4.patches:\n",
    "    ax4.annotate(\"{:.2f}\".format(patch.get_height()),  # this is the text/label\n",
    "                    (patch.get_x()+patch.get_width()/2, patch.get_height()), # (x, y) these are the coordinates to position the label\n",
    "                    ha = 'center', va= 'center', # horizontal and vertical alignment, can be left, right, center.\n",
    "                    xytext = (0,10), # distance from text to points (x,y)\n",
    "                    textcoords = 'offset points') # how to position the label\n",
    "\n",
    "plt.tight_layout()\n",
    "plt.show()\n"
   ]
  },
  {
   "cell_type": "code",
   "execution_count": null,
   "metadata": {},
   "outputs": [],
   "source": []
  },
  {
   "cell_type": "code",
   "execution_count": 12,
   "metadata": {},
   "outputs": [
    {
     "data": {
      "application/vnd.plotly.v1+json": {
       "config": {
        "plotlyServerURL": "https://plot.ly"
       },
       "data": [
        {
         "type": "box",
         "x": [
          2012,
          2012,
          2012,
          2012,
          2012,
          2012,
          2012,
          2012,
          2012,
          2012,
          2012,
          2012,
          2012,
          2012,
          2012,
          2013,
          2013,
          2013,
          2013,
          2013,
          2013,
          2013,
          2013,
          2013,
          2013,
          2013,
          2013,
          2013,
          2013,
          2013,
          2014,
          2014,
          2014,
          2014,
          2014,
          2014,
          2014,
          2014,
          2014,
          2014,
          2014,
          2014,
          2014,
          2014,
          2014,
          2015,
          2015,
          2015,
          2015,
          2015,
          2015,
          2015,
          2015,
          2015,
          2015,
          2015,
          2015,
          2015,
          2015,
          2015,
          2016,
          2016,
          2016,
          2016,
          2016,
          2016,
          2016,
          2016,
          2016,
          2016,
          2016,
          2016,
          2016,
          2016,
          2016,
          2017,
          2017,
          2017,
          2017,
          2017,
          2017,
          2017,
          2017,
          2017,
          2017,
          2017,
          2017,
          2017,
          2017,
          2017,
          2018,
          2018,
          2018,
          2018,
          2018,
          2018,
          2018,
          2018,
          2018,
          2018,
          2018,
          2018,
          2018,
          2018,
          2018,
          2019,
          2019,
          2019,
          2019,
          2019,
          2019,
          2019,
          2019,
          2019,
          2019,
          2019,
          2019,
          2019,
          2019,
          2019,
          2020,
          2020,
          2020,
          2020,
          2020,
          2020,
          2020,
          2020,
          2020,
          2020,
          2020,
          2020,
          2020,
          2020,
          2020,
          2021,
          2021,
          2021,
          2021,
          2021,
          2021,
          2021,
          2021,
          2021,
          2021,
          2021,
          2021,
          2021,
          2021,
          2021,
          2022,
          2022,
          2022,
          2022,
          2022,
          2022,
          2022,
          2022,
          2022,
          2022,
          2022,
          2022,
          2022,
          2022,
          2022
         ],
         "xaxis": "x",
         "y": [
          4.18,
          4.09,
          4,
          4.11,
          4,
          4.12,
          4.18,
          4.25,
          4.02,
          4.4,
          4.11,
          3.97,
          4.35,
          4.05,
          4.13,
          3.92,
          4.01,
          3.62,
          4,
          3.87,
          4.02,
          3.86,
          4.01,
          3.99,
          3.95,
          4.18,
          4.36,
          4.3,
          4.25,
          3.87,
          4.32,
          3.8,
          4.1,
          3.83,
          4.28,
          4.04,
          3.86,
          4.14,
          4.17,
          4.05,
          4.39,
          4.23,
          4.18,
          4.44,
          4.4,
          3.94,
          4.57,
          4.18,
          4.03,
          4.47,
          4.03,
          4.14,
          4.3,
          4.21,
          4.06,
          4.23,
          4.37,
          3.32,
          4.07,
          4.53,
          3.92,
          3.56,
          4.45,
          4.36,
          3.72,
          4.59,
          4.42,
          4.04,
          3.8,
          3.96,
          4.1,
          3.9,
          4.59,
          4.03,
          4.1,
          4.5,
          4.26,
          4.09,
          4.45,
          4.37,
          4.04,
          3.93,
          3.59,
          4.28,
          4.03,
          4.41,
          3.97,
          4.04,
          4.13,
          4.28,
          4.46,
          4.46,
          4.5,
          4.26,
          3.85,
          4.09,
          4.35,
          3.95,
          4.26,
          4.36,
          4.36,
          3.95,
          4.08,
          3.52,
          3.85,
          4.12,
          4.22,
          4.23,
          3.85,
          4.22,
          4.2,
          4.02,
          4.27,
          4.1,
          4.04,
          4.02,
          4.37,
          3.84,
          3.96,
          4.05,
          4.1,
          4.22,
          4.25,
          4.35,
          4.03,
          3.86,
          3.81,
          4.06,
          4.43,
          3.7,
          3.83,
          4.3,
          4.37,
          4.05,
          4.48,
          4.33,
          4.13,
          4.13,
          3.79,
          3.98,
          3.82,
          4.13,
          3.77,
          4.54,
          3.66,
          4.39,
          4.16,
          3.86,
          4.09,
          4.41,
          4.45,
          4.72,
          4.78,
          4.48,
          4.25,
          4.49,
          4.14,
          4.72,
          4.67,
          4.03,
          3.99,
          3.88,
          4.3,
          4.05,
          4.51
         ],
         "yaxis": "y"
        },
        {
         "type": "scatter",
         "x": [
          2012,
          2012,
          2012,
          2012,
          2012,
          2012,
          2012,
          2012,
          2012,
          2012,
          2012,
          2012,
          2012,
          2012,
          2012,
          2013,
          2013,
          2013,
          2013,
          2013,
          2013,
          2013,
          2013,
          2013,
          2013,
          2013,
          2013,
          2013,
          2013,
          2013,
          2014,
          2014,
          2014,
          2014,
          2014,
          2014,
          2014,
          2014,
          2014,
          2014,
          2014,
          2014,
          2014,
          2014,
          2014,
          2015,
          2015,
          2015,
          2015,
          2015,
          2015,
          2015,
          2015,
          2015,
          2015,
          2015,
          2015,
          2015,
          2015,
          2015,
          2016,
          2016,
          2016,
          2016,
          2016,
          2016,
          2016,
          2016,
          2016,
          2016,
          2016,
          2016,
          2016,
          2016,
          2016,
          2017,
          2017,
          2017,
          2017,
          2017,
          2017,
          2017,
          2017,
          2017,
          2017,
          2017,
          2017,
          2017,
          2017,
          2017,
          2018,
          2018,
          2018,
          2018,
          2018,
          2018,
          2018,
          2018,
          2018,
          2018,
          2018,
          2018,
          2018,
          2018,
          2018,
          2019,
          2019,
          2019,
          2019,
          2019,
          2019,
          2019,
          2019,
          2019,
          2019,
          2019,
          2019,
          2019,
          2019,
          2019,
          2020,
          2020,
          2020,
          2020,
          2020,
          2020,
          2020,
          2020,
          2020,
          2020,
          2020,
          2020,
          2020,
          2020,
          2020,
          2021,
          2021,
          2021,
          2021,
          2021,
          2021,
          2021,
          2021,
          2021,
          2021,
          2021,
          2021,
          2021,
          2021,
          2021,
          2022,
          2022,
          2022,
          2022,
          2022,
          2022,
          2022,
          2022,
          2022,
          2022,
          2022,
          2022,
          2022,
          2022,
          2022
         ],
         "xaxis": "x2",
         "y": [
          4000000,
          3000000,
          976000,
          1000000,
          1000000,
          485000,
          749000,
          1000000,
          680000,
          870000,
          404000,
          597000,
          691000,
          369000,
          777000,
          792000,
          653000,
          910000,
          527000,
          525000,
          425000,
          510000,
          491000,
          545000,
          579000,
          401000,
          446000,
          311000,
          355000,
          391000,
          1000000,
          677000,
          619000,
          471000,
          837000,
          448000,
          411000,
          289000,
          247000,
          368000,
          335000,
          289000,
          486000,
          375000,
          315000,
          2000000,
          855000,
          749000,
          708000,
          540000,
          465000,
          389000,
          291000,
          299000,
          253000,
          350000,
          288000,
          248000,
          284000,
          324000,
          688000,
          807000,
          501000,
          491000,
          447000,
          532000,
          440000,
          339000,
          412000,
          369000,
          313000,
          359000,
          358000,
          238000,
          280000,
          641000,
          894000,
          889000,
          551000,
          458000,
          383000,
          396000,
          323000,
          321000,
          261000,
          419000,
          209000,
          308000,
          203000,
          277000,
          1000000,
          1000000,
          754000,
          534000,
          628000,
          424000,
          480000,
          592000,
          610000,
          261000,
          336000,
          304000,
          194000,
          312000,
          268000,
          801000,
          426000,
          367000,
          342000,
          290000,
          270000,
          204000,
          289000,
          310000,
          144000,
          249000,
          190000,
          133000,
          153000,
          128000,
          606000,
          454000,
          381000,
          358000,
          252000,
          427000,
          255000,
          269000,
          174000,
          177000,
          199000,
          173000,
          136000,
          160000,
          170000,
          268000,
          197000,
          197000,
          112000,
          184000,
          96600,
          115000,
          88600,
          123000,
          82600,
          181000,
          62500,
          33300,
          42500,
          56700,
          507,
          635,
          459,
          126,
          759,
          178,
          36,
          99,
          580,
          68,
          290,
          268,
          54,
          78,
          51
         ],
         "yaxis": "y2"
        },
        {
         "type": "bar",
         "x": [
          2012,
          2012,
          2012,
          2012,
          2012,
          2012,
          2012,
          2012,
          2012,
          2012,
          2012,
          2012,
          2012,
          2012,
          2012,
          2013,
          2013,
          2013,
          2013,
          2013,
          2013,
          2013,
          2013,
          2013,
          2013,
          2013,
          2013,
          2013,
          2013,
          2013,
          2014,
          2014,
          2014,
          2014,
          2014,
          2014,
          2014,
          2014,
          2014,
          2014,
          2014,
          2014,
          2014,
          2014,
          2014,
          2015,
          2015,
          2015,
          2015,
          2015,
          2015,
          2015,
          2015,
          2015,
          2015,
          2015,
          2015,
          2015,
          2015,
          2015,
          2016,
          2016,
          2016,
          2016,
          2016,
          2016,
          2016,
          2016,
          2016,
          2016,
          2016,
          2016,
          2016,
          2016,
          2016,
          2017,
          2017,
          2017,
          2017,
          2017,
          2017,
          2017,
          2017,
          2017,
          2017,
          2017,
          2017,
          2017,
          2017,
          2017,
          2018,
          2018,
          2018,
          2018,
          2018,
          2018,
          2018,
          2018,
          2018,
          2018,
          2018,
          2018,
          2018,
          2018,
          2018,
          2019,
          2019,
          2019,
          2019,
          2019,
          2019,
          2019,
          2019,
          2019,
          2019,
          2019,
          2019,
          2019,
          2019,
          2019,
          2020,
          2020,
          2020,
          2020,
          2020,
          2020,
          2020,
          2020,
          2020,
          2020,
          2020,
          2020,
          2020,
          2020,
          2020,
          2021,
          2021,
          2021,
          2021,
          2021,
          2021,
          2021,
          2021,
          2021,
          2021,
          2021,
          2021,
          2021,
          2021,
          2021,
          2022,
          2022,
          2022,
          2022,
          2022,
          2022,
          2022,
          2022,
          2022,
          2022,
          2022,
          2022,
          2022,
          2022,
          2022
         ],
         "xaxis": "x3",
         "y": [
          5000000,
          2000000,
          2000000,
          2000000,
          2000000,
          1000000,
          1000000,
          1000000,
          1000000,
          1000000,
          1000000,
          968000,
          963000,
          929000,
          926000,
          1000000,
          1000000,
          1000000,
          895000,
          815000,
          756000,
          716000,
          691000,
          691000,
          662000,
          622000,
          577000,
          548000,
          544000,
          543000,
          2000000,
          1000000,
          1000000,
          917000,
          897000,
          792000,
          674000,
          663000,
          583000,
          575000,
          574000,
          564000,
          539000,
          507000,
          490000,
          3000000,
          1000000,
          1000000,
          1000000,
          1000000,
          805000,
          798000,
          643000,
          626000,
          619000,
          579000,
          546000,
          532000,
          470000,
          470000,
          1000000,
          1000000,
          820000,
          811000,
          744000,
          651000,
          649000,
          631000,
          626000,
          566000,
          561000,
          545000,
          502000,
          496000,
          489000,
          1000000,
          1000000,
          1000000,
          872000,
          712000,
          673000,
          642000,
          614000,
          569000,
          543000,
          529000,
          485000,
          464000,
          425000,
          414000,
          2000000,
          2000000,
          1000000,
          1000000,
          842000,
          764000,
          717000,
          716000,
          716000,
          633000,
          540000,
          528000,
          487000,
          436000,
          433000,
          1000000,
          664000,
          643000,
          642000,
          600000,
          507000,
          499000,
          475000,
          468000,
          447000,
          380000,
          380000,
          358000,
          352000,
          351000,
          1000000,
          879000,
          859000,
          507000,
          501000,
          496000,
          479000,
          467000,
          439000,
          419000,
          399000,
          363000,
          333000,
          322000,
          314000,
          407000,
          299000,
          288000,
          259000,
          219000,
          202000,
          199000,
          194000,
          187000,
          177000,
          174000,
          156000,
          151000,
          137000,
          136000,
          58300,
          50900,
          19000,
          18400,
          15100,
          14500,
          14400,
          12600,
          11700,
          9662,
          9632,
          8634,
          8522,
          7786,
          7435
         ],
         "yaxis": "y3"
        },
        {
         "type": "bar",
         "x": [
          "Tracy Deonn",
          "Alice Oseman",
          "Jennifer L. Armentrout",
          "Andy Weir",
          "Angie Thomas",
          "Michelle Obama",
          "Tracy Wolff",
          "T.J. Klune",
          "Tara Westover",
          "Delia Owens",
          "Trevor Noah",
          "Sarah J. Maas",
          "Cassandra Clare",
          "Kristin Hannah",
          "Ilona Andrews"
         ],
         "xaxis": "x4",
         "y": [
          4.72,
          4.67,
          4.54,
          4.54,
          4.5,
          4.5,
          4.49,
          4.48,
          4.46,
          4.46,
          4.45,
          4.423,
          4.42,
          4.416666666666667,
          4.404999999999999
         ],
         "yaxis": "y4"
        }
       ],
       "layout": {
        "autosize": false,
        "height": 500,
        "margin": {
         "b": 20,
         "l": 20,
         "pad": 10,
         "r": 20,
         "t": 20
        },
        "showlegend": false,
        "template": {
         "data": {
          "bar": [
           {
            "error_x": {
             "color": "#2a3f5f"
            },
            "error_y": {
             "color": "#2a3f5f"
            },
            "marker": {
             "line": {
              "color": "#E5ECF6",
              "width": 0.5
             },
             "pattern": {
              "fillmode": "overlay",
              "size": 10,
              "solidity": 0.2
             }
            },
            "type": "bar"
           }
          ],
          "barpolar": [
           {
            "marker": {
             "line": {
              "color": "#E5ECF6",
              "width": 0.5
             },
             "pattern": {
              "fillmode": "overlay",
              "size": 10,
              "solidity": 0.2
             }
            },
            "type": "barpolar"
           }
          ],
          "carpet": [
           {
            "aaxis": {
             "endlinecolor": "#2a3f5f",
             "gridcolor": "white",
             "linecolor": "white",
             "minorgridcolor": "white",
             "startlinecolor": "#2a3f5f"
            },
            "baxis": {
             "endlinecolor": "#2a3f5f",
             "gridcolor": "white",
             "linecolor": "white",
             "minorgridcolor": "white",
             "startlinecolor": "#2a3f5f"
            },
            "type": "carpet"
           }
          ],
          "choropleth": [
           {
            "colorbar": {
             "outlinewidth": 0,
             "ticks": ""
            },
            "type": "choropleth"
           }
          ],
          "contour": [
           {
            "colorbar": {
             "outlinewidth": 0,
             "ticks": ""
            },
            "colorscale": [
             [
              0,
              "#0d0887"
             ],
             [
              0.1111111111111111,
              "#46039f"
             ],
             [
              0.2222222222222222,
              "#7201a8"
             ],
             [
              0.3333333333333333,
              "#9c179e"
             ],
             [
              0.4444444444444444,
              "#bd3786"
             ],
             [
              0.5555555555555556,
              "#d8576b"
             ],
             [
              0.6666666666666666,
              "#ed7953"
             ],
             [
              0.7777777777777778,
              "#fb9f3a"
             ],
             [
              0.8888888888888888,
              "#fdca26"
             ],
             [
              1,
              "#f0f921"
             ]
            ],
            "type": "contour"
           }
          ],
          "contourcarpet": [
           {
            "colorbar": {
             "outlinewidth": 0,
             "ticks": ""
            },
            "type": "contourcarpet"
           }
          ],
          "heatmap": [
           {
            "colorbar": {
             "outlinewidth": 0,
             "ticks": ""
            },
            "colorscale": [
             [
              0,
              "#0d0887"
             ],
             [
              0.1111111111111111,
              "#46039f"
             ],
             [
              0.2222222222222222,
              "#7201a8"
             ],
             [
              0.3333333333333333,
              "#9c179e"
             ],
             [
              0.4444444444444444,
              "#bd3786"
             ],
             [
              0.5555555555555556,
              "#d8576b"
             ],
             [
              0.6666666666666666,
              "#ed7953"
             ],
             [
              0.7777777777777778,
              "#fb9f3a"
             ],
             [
              0.8888888888888888,
              "#fdca26"
             ],
             [
              1,
              "#f0f921"
             ]
            ],
            "type": "heatmap"
           }
          ],
          "heatmapgl": [
           {
            "colorbar": {
             "outlinewidth": 0,
             "ticks": ""
            },
            "colorscale": [
             [
              0,
              "#0d0887"
             ],
             [
              0.1111111111111111,
              "#46039f"
             ],
             [
              0.2222222222222222,
              "#7201a8"
             ],
             [
              0.3333333333333333,
              "#9c179e"
             ],
             [
              0.4444444444444444,
              "#bd3786"
             ],
             [
              0.5555555555555556,
              "#d8576b"
             ],
             [
              0.6666666666666666,
              "#ed7953"
             ],
             [
              0.7777777777777778,
              "#fb9f3a"
             ],
             [
              0.8888888888888888,
              "#fdca26"
             ],
             [
              1,
              "#f0f921"
             ]
            ],
            "type": "heatmapgl"
           }
          ],
          "histogram": [
           {
            "marker": {
             "pattern": {
              "fillmode": "overlay",
              "size": 10,
              "solidity": 0.2
             }
            },
            "type": "histogram"
           }
          ],
          "histogram2d": [
           {
            "colorbar": {
             "outlinewidth": 0,
             "ticks": ""
            },
            "colorscale": [
             [
              0,
              "#0d0887"
             ],
             [
              0.1111111111111111,
              "#46039f"
             ],
             [
              0.2222222222222222,
              "#7201a8"
             ],
             [
              0.3333333333333333,
              "#9c179e"
             ],
             [
              0.4444444444444444,
              "#bd3786"
             ],
             [
              0.5555555555555556,
              "#d8576b"
             ],
             [
              0.6666666666666666,
              "#ed7953"
             ],
             [
              0.7777777777777778,
              "#fb9f3a"
             ],
             [
              0.8888888888888888,
              "#fdca26"
             ],
             [
              1,
              "#f0f921"
             ]
            ],
            "type": "histogram2d"
           }
          ],
          "histogram2dcontour": [
           {
            "colorbar": {
             "outlinewidth": 0,
             "ticks": ""
            },
            "colorscale": [
             [
              0,
              "#0d0887"
             ],
             [
              0.1111111111111111,
              "#46039f"
             ],
             [
              0.2222222222222222,
              "#7201a8"
             ],
             [
              0.3333333333333333,
              "#9c179e"
             ],
             [
              0.4444444444444444,
              "#bd3786"
             ],
             [
              0.5555555555555556,
              "#d8576b"
             ],
             [
              0.6666666666666666,
              "#ed7953"
             ],
             [
              0.7777777777777778,
              "#fb9f3a"
             ],
             [
              0.8888888888888888,
              "#fdca26"
             ],
             [
              1,
              "#f0f921"
             ]
            ],
            "type": "histogram2dcontour"
           }
          ],
          "mesh3d": [
           {
            "colorbar": {
             "outlinewidth": 0,
             "ticks": ""
            },
            "type": "mesh3d"
           }
          ],
          "parcoords": [
           {
            "line": {
             "colorbar": {
              "outlinewidth": 0,
              "ticks": ""
             }
            },
            "type": "parcoords"
           }
          ],
          "pie": [
           {
            "automargin": true,
            "type": "pie"
           }
          ],
          "scatter": [
           {
            "marker": {
             "colorbar": {
              "outlinewidth": 0,
              "ticks": ""
             }
            },
            "type": "scatter"
           }
          ],
          "scatter3d": [
           {
            "line": {
             "colorbar": {
              "outlinewidth": 0,
              "ticks": ""
             }
            },
            "marker": {
             "colorbar": {
              "outlinewidth": 0,
              "ticks": ""
             }
            },
            "type": "scatter3d"
           }
          ],
          "scattercarpet": [
           {
            "marker": {
             "colorbar": {
              "outlinewidth": 0,
              "ticks": ""
             }
            },
            "type": "scattercarpet"
           }
          ],
          "scattergeo": [
           {
            "marker": {
             "colorbar": {
              "outlinewidth": 0,
              "ticks": ""
             }
            },
            "type": "scattergeo"
           }
          ],
          "scattergl": [
           {
            "marker": {
             "colorbar": {
              "outlinewidth": 0,
              "ticks": ""
             }
            },
            "type": "scattergl"
           }
          ],
          "scattermapbox": [
           {
            "marker": {
             "colorbar": {
              "outlinewidth": 0,
              "ticks": ""
             }
            },
            "type": "scattermapbox"
           }
          ],
          "scatterpolar": [
           {
            "marker": {
             "colorbar": {
              "outlinewidth": 0,
              "ticks": ""
             }
            },
            "type": "scatterpolar"
           }
          ],
          "scatterpolargl": [
           {
            "marker": {
             "colorbar": {
              "outlinewidth": 0,
              "ticks": ""
             }
            },
            "type": "scatterpolargl"
           }
          ],
          "scatterternary": [
           {
            "marker": {
             "colorbar": {
              "outlinewidth": 0,
              "ticks": ""
             }
            },
            "type": "scatterternary"
           }
          ],
          "surface": [
           {
            "colorbar": {
             "outlinewidth": 0,
             "ticks": ""
            },
            "colorscale": [
             [
              0,
              "#0d0887"
             ],
             [
              0.1111111111111111,
              "#46039f"
             ],
             [
              0.2222222222222222,
              "#7201a8"
             ],
             [
              0.3333333333333333,
              "#9c179e"
             ],
             [
              0.4444444444444444,
              "#bd3786"
             ],
             [
              0.5555555555555556,
              "#d8576b"
             ],
             [
              0.6666666666666666,
              "#ed7953"
             ],
             [
              0.7777777777777778,
              "#fb9f3a"
             ],
             [
              0.8888888888888888,
              "#fdca26"
             ],
             [
              1,
              "#f0f921"
             ]
            ],
            "type": "surface"
           }
          ],
          "table": [
           {
            "cells": {
             "fill": {
              "color": "#EBF0F8"
             },
             "line": {
              "color": "white"
             }
            },
            "header": {
             "fill": {
              "color": "#C8D4E3"
             },
             "line": {
              "color": "white"
             }
            },
            "type": "table"
           }
          ]
         },
         "layout": {
          "annotationdefaults": {
           "arrowcolor": "#2a3f5f",
           "arrowhead": 0,
           "arrowwidth": 1
          },
          "autotypenumbers": "strict",
          "coloraxis": {
           "colorbar": {
            "outlinewidth": 0,
            "ticks": ""
           }
          },
          "colorscale": {
           "diverging": [
            [
             0,
             "#8e0152"
            ],
            [
             0.1,
             "#c51b7d"
            ],
            [
             0.2,
             "#de77ae"
            ],
            [
             0.3,
             "#f1b6da"
            ],
            [
             0.4,
             "#fde0ef"
            ],
            [
             0.5,
             "#f7f7f7"
            ],
            [
             0.6,
             "#e6f5d0"
            ],
            [
             0.7,
             "#b8e186"
            ],
            [
             0.8,
             "#7fbc41"
            ],
            [
             0.9,
             "#4d9221"
            ],
            [
             1,
             "#276419"
            ]
           ],
           "sequential": [
            [
             0,
             "#0d0887"
            ],
            [
             0.1111111111111111,
             "#46039f"
            ],
            [
             0.2222222222222222,
             "#7201a8"
            ],
            [
             0.3333333333333333,
             "#9c179e"
            ],
            [
             0.4444444444444444,
             "#bd3786"
            ],
            [
             0.5555555555555556,
             "#d8576b"
            ],
            [
             0.6666666666666666,
             "#ed7953"
            ],
            [
             0.7777777777777778,
             "#fb9f3a"
            ],
            [
             0.8888888888888888,
             "#fdca26"
            ],
            [
             1,
             "#f0f921"
            ]
           ],
           "sequentialminus": [
            [
             0,
             "#0d0887"
            ],
            [
             0.1111111111111111,
             "#46039f"
            ],
            [
             0.2222222222222222,
             "#7201a8"
            ],
            [
             0.3333333333333333,
             "#9c179e"
            ],
            [
             0.4444444444444444,
             "#bd3786"
            ],
            [
             0.5555555555555556,
             "#d8576b"
            ],
            [
             0.6666666666666666,
             "#ed7953"
            ],
            [
             0.7777777777777778,
             "#fb9f3a"
            ],
            [
             0.8888888888888888,
             "#fdca26"
            ],
            [
             1,
             "#f0f921"
            ]
           ]
          },
          "colorway": [
           "#636efa",
           "#EF553B",
           "#00cc96",
           "#ab63fa",
           "#FFA15A",
           "#19d3f3",
           "#FF6692",
           "#B6E880",
           "#FF97FF",
           "#FECB52"
          ],
          "font": {
           "color": "#2a3f5f"
          },
          "geo": {
           "bgcolor": "white",
           "lakecolor": "white",
           "landcolor": "#E5ECF6",
           "showlakes": true,
           "showland": true,
           "subunitcolor": "white"
          },
          "hoverlabel": {
           "align": "left"
          },
          "hovermode": "closest",
          "mapbox": {
           "style": "light"
          },
          "paper_bgcolor": "white",
          "plot_bgcolor": "#E5ECF6",
          "polar": {
           "angularaxis": {
            "gridcolor": "white",
            "linecolor": "white",
            "ticks": ""
           },
           "bgcolor": "#E5ECF6",
           "radialaxis": {
            "gridcolor": "white",
            "linecolor": "white",
            "ticks": ""
           }
          },
          "scene": {
           "xaxis": {
            "backgroundcolor": "#E5ECF6",
            "gridcolor": "white",
            "gridwidth": 2,
            "linecolor": "white",
            "showbackground": true,
            "ticks": "",
            "zerolinecolor": "white"
           },
           "yaxis": {
            "backgroundcolor": "#E5ECF6",
            "gridcolor": "white",
            "gridwidth": 2,
            "linecolor": "white",
            "showbackground": true,
            "ticks": "",
            "zerolinecolor": "white"
           },
           "zaxis": {
            "backgroundcolor": "#E5ECF6",
            "gridcolor": "white",
            "gridwidth": 2,
            "linecolor": "white",
            "showbackground": true,
            "ticks": "",
            "zerolinecolor": "white"
           }
          },
          "shapedefaults": {
           "line": {
            "color": "#2a3f5f"
           }
          },
          "ternary": {
           "aaxis": {
            "gridcolor": "white",
            "linecolor": "white",
            "ticks": ""
           },
           "baxis": {
            "gridcolor": "white",
            "linecolor": "white",
            "ticks": ""
           },
           "bgcolor": "#E5ECF6",
           "caxis": {
            "gridcolor": "white",
            "linecolor": "white",
            "ticks": ""
           }
          },
          "title": {
           "x": 0.05
          },
          "xaxis": {
           "automargin": true,
           "gridcolor": "white",
           "linecolor": "white",
           "ticks": "",
           "title": {
            "standoff": 15
           },
           "zerolinecolor": "white",
           "zerolinewidth": 2
          },
          "yaxis": {
           "automargin": true,
           "gridcolor": "white",
           "linecolor": "white",
           "ticks": "",
           "title": {
            "standoff": 15
           },
           "zerolinecolor": "white",
           "zerolinewidth": 2
          }
         }
        },
        "width": 1000,
        "xaxis": {
         "anchor": "y",
         "domain": [
          0,
          0.45
         ]
        },
        "xaxis2": {
         "anchor": "y2",
         "domain": [
          0.55,
          1
         ]
        },
        "xaxis3": {
         "anchor": "y3",
         "domain": [
          0,
          0.45
         ]
        },
        "xaxis4": {
         "anchor": "y4",
         "domain": [
          0.55,
          1
         ]
        },
        "yaxis": {
         "anchor": "x",
         "domain": [
          0.575,
          1
         ]
        },
        "yaxis2": {
         "anchor": "x2",
         "domain": [
          0.575,
          1
         ]
        },
        "yaxis3": {
         "anchor": "x3",
         "domain": [
          0,
          0.425
         ]
        },
        "yaxis4": {
         "anchor": "x4",
         "domain": [
          0,
          0.425
         ]
        }
       }
      }
     },
     "metadata": {},
     "output_type": "display_data"
    }
   ],
   "source": [
    "fig = make_subplots(rows=2, cols=2)\n",
    "#1\n",
    "fig.add_trace(go.Box(x=book_df_mean['Year'], y=book_df_mean['Avg rating']), row=1, col=1)\n",
    "#2\n",
    "fig.add_trace(go.Scatter(x=book_df_mean['Year'],\n",
    "                     y=book_df_mean['Rating Count']), row=1, col=2)\n",
    "#3\n",
    "fig.add_trace(go.Bar(x = book_df_mean[\"Year\"], y = book_df_mean[\"Shelvings\"]), row=2, col=1)\n",
    "\n",
    "#4\n",
    "fig.add_trace(\n",
    "    go.Bar(y=book_df_sorted['Avg rating'][:15], \n",
    "            x=book_df_sorted[\"Author\"][:15] \n",
    "            ), row=2, col=2)\n",
    "\n",
    "fig.update_layout(autosize= False, width=1000, height= 500, \n",
    "                    margin=dict(l=20, r=20, t=20, b=20, pad=10),\n",
    "                    showlegend=False)\n",
    "\n",
    "fig.show()"
   ]
  },
  {
   "cell_type": "code",
   "execution_count": null,
   "metadata": {},
   "outputs": [],
   "source": []
  },
  {
   "cell_type": "code",
   "execution_count": null,
   "metadata": {},
   "outputs": [],
   "source": []
  },
  {
   "cell_type": "code",
   "execution_count": null,
   "metadata": {},
   "outputs": [],
   "source": []
  }
 ],
 "metadata": {
  "interpreter": {
   "hash": "3fe171fae952cbd1cc29b7a695da341c96661c4acb9af93385c120d747206b74"
  },
  "kernelspec": {
   "display_name": "Python 3.9.7 64-bit ('testpython': conda)",
   "name": "python3"
  },
  "language_info": {
   "codemirror_mode": {
    "name": "ipython",
    "version": 3
   },
   "file_extension": ".py",
   "mimetype": "text/x-python",
   "name": "python",
   "nbconvert_exporter": "python",
   "pygments_lexer": "ipython3",
   "version": "3.9.7"
  }
 },
 "nbformat": 4,
 "nbformat_minor": 4
}

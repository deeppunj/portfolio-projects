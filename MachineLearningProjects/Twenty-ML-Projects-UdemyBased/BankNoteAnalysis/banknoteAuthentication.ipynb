{
 "cells": [
  {
   "cell_type": "markdown",
   "source": [
    "Source:https://archive.ics.uci.edu/ml/datasets/banknote+authentication\r\n",
    "\r\n",
    "Owner of database: Volker Lohweg \r\n",
    "Date received: August, 2012\r\n",
    "\r\n",
    "\r\n",
    "Data Set Information:\r\n",
    "\r\n",
    "Data were extracted from images that were taken from genuine and forged banknote-like specimens. For digitization, an industrial camera usually used for print inspection was used. The final images have 400x 400 pixels. Due to the object lens and distance to the investigated object gray-scale pictures with a resolution of about 660 dpi were gained. Wavelet Transform tool were used to extract features from images.\r\n",
    "\r\n",
    "\r\n",
    "Attribute Information:\r\n",
    "\r\n",
    "1. variance of Wavelet Transformed image (continuous)\r\n",
    "2. skewness of Wavelet Transformed image (continuous)\r\n",
    "3. curtosis of Wavelet Transformed image (continuous)\r\n",
    "4. entropy of image (continuous)\r\n",
    "5. class (integer)"
   ],
   "metadata": {}
  },
  {
   "cell_type": "markdown",
   "source": [],
   "metadata": {}
  },
  {
   "cell_type": "code",
   "execution_count": null,
   "source": [],
   "outputs": [],
   "metadata": {}
  }
 ],
 "metadata": {
  "orig_nbformat": 4,
  "language_info": {
   "name": "python"
  }
 },
 "nbformat": 4,
 "nbformat_minor": 2
}
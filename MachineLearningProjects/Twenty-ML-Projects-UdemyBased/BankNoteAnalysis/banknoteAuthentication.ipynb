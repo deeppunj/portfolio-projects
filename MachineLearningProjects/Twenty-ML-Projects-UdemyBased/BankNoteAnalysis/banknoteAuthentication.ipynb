{
 "cells": [
  {
   "cell_type": "markdown",
   "source": [
    "Source:https://archive.ics.uci.edu/ml/datasets/banknote+authentication\r\n",
    "\r\n",
    "Owner of database: Volker Lohweg \r\n",
    "Date received: August, 2012\r\n",
    "\r\n",
    "\r\n",
    "Data Set Information:\r\n",
    "\r\n",
    "Data were extracted from images that were taken from genuine and forged banknote-like specimens. For digitization, an industrial camera usually used for print inspection was used. The final images have 400x 400 pixels. Due to the object lens and distance to the investigated object gray-scale pictures with a resolution of about 660 dpi were gained. Wavelet Transform tool were used to extract features from images.\r\n",
    "\r\n",
    "\r\n",
    "Attribute Information:\r\n",
    "\r\n",
    "1. variance of Wavelet Transformed image (continuous)\r\n",
    "2. skewness of Wavelet Transformed image (continuous)\r\n",
    "3. curtosis of Wavelet Transformed image (continuous)\r\n",
    "4. entropy of image (continuous)\r\n",
    "5. class (integer)"
   ],
   "metadata": {}
  },
  {
   "cell_type": "markdown",
   "source": [],
   "metadata": {}
  },
  {
   "cell_type": "code",
   "execution_count": 1,
   "source": [
    "#!pip install pyforest"
   ],
   "outputs": [],
   "metadata": {}
  },
  {
   "cell_type": "code",
   "execution_count": 3,
   "source": [
    "from pyforest import *"
   ],
   "outputs": [],
   "metadata": {}
  },
  {
   "cell_type": "code",
   "execution_count": 4,
   "source": [
    "lazy_imports()"
   ],
   "outputs": [
    {
     "output_type": "execute_result",
     "data": {
      "text/plain": [
       "['from sklearn.model_selection import cross_val_score',\n",
       " 'import dash',\n",
       " 'from sklearn.cluster import KMeans',\n",
       " 'import imutils',\n",
       " 'import nltk',\n",
       " 'from dask import dataframe as dd',\n",
       " 'from sklearn.linear_model import RidgeCV',\n",
       " 'from sklearn.linear_model import ElasticNetCV',\n",
       " 'import bokeh',\n",
       " 'import pandas as pd',\n",
       " 'from PIL import Image',\n",
       " 'from sklearn.linear_model import LogisticRegression',\n",
       " 'from sklearn.ensemble import GradientBoostingRegressor',\n",
       " 'from sklearn.ensemble import GradientBoostingClassifier',\n",
       " 'import pydot',\n",
       " 'import fastai',\n",
       " 'from statsmodels.tsa.arima_model import ARIMA',\n",
       " 'from sklearn.model_selection import StratifiedKFold',\n",
       " 'from sklearn.feature_extraction.text import CountVectorizer',\n",
       " 'import spacy',\n",
       " 'import plotly.express as px',\n",
       " 'from sklearn.decomposition import PCA',\n",
       " 'import tqdm',\n",
       " 'import re',\n",
       " 'import datetime as dt',\n",
       " 'import sklearn',\n",
       " 'import statsmodels.api as sm',\n",
       " 'from sklearn.ensemble import RandomForestRegressor',\n",
       " 'import sys',\n",
       " 'import awswrangler as wr',\n",
       " 'from pathlib import Path',\n",
       " 'from sklearn.preprocessing import PolynomialFeatures',\n",
       " 'from sklearn.preprocessing import RobustScaler',\n",
       " 'from sklearn.preprocessing import StandardScaler',\n",
       " 'import cv2',\n",
       " 'from sklearn.feature_extraction.text import TfidfVectorizer',\n",
       " 'import fbprophet',\n",
       " 'from fbprophet import Prophet',\n",
       " 'from sklearn.linear_model import Ridge',\n",
       " 'from sklearn.impute import SimpleImputer',\n",
       " 'from sklearn import metrics',\n",
       " 'from sklearn import svm',\n",
       " 'import numpy as np',\n",
       " 'from sklearn.linear_model import Lasso',\n",
       " 'import os',\n",
       " 'import plotly as py',\n",
       " 'import statistics',\n",
       " 'import altair as alt',\n",
       " 'import glob',\n",
       " 'import gensim',\n",
       " 'import torch',\n",
       " 'from sklearn.preprocessing import OneHotEncoder',\n",
       " 'import matplotlib as mpl',\n",
       " 'from sklearn.model_selection import GridSearchCV',\n",
       " 'from pyspark import SparkContext',\n",
       " 'import xgboost as xgb',\n",
       " 'from sklearn.linear_model import LinearRegression',\n",
       " 'from sklearn.model_selection import KFold',\n",
       " 'import skimage',\n",
       " 'from scipy import stats',\n",
       " 'import plotly.graph_objs as go',\n",
       " 'from sklearn.model_selection import train_test_split',\n",
       " 'from sklearn.linear_model import LassoCV',\n",
       " 'import seaborn as sns',\n",
       " 'from scipy import signal as sg',\n",
       " 'import tensorflow as tf',\n",
       " 'import textblob',\n",
       " 'from sklearn.ensemble import RandomForestClassifier',\n",
       " 'import keras',\n",
       " 'from sklearn.manifold import TSNE',\n",
       " 'import lightgbm as lgb',\n",
       " 'from sklearn.model_selection import RandomizedSearchCV',\n",
       " 'from sklearn.preprocessing import MinMaxScaler',\n",
       " 'from openpyxl import load_workbook',\n",
       " 'from sklearn.preprocessing import LabelEncoder',\n",
       " 'from xlrd import open_workbook',\n",
       " 'import matplotlib.pyplot as plt',\n",
       " 'from sklearn.linear_model import ElasticNet',\n",
       " 'import pickle']"
      ]
     },
     "metadata": {},
     "execution_count": 4
    }
   ],
   "metadata": {}
  },
  {
   "cell_type": "code",
   "execution_count": 6,
   "source": [
    "data = pd.read_csv('data_banknote_authentication.csv', header=None)\r\n",
    "data.head()"
   ],
   "outputs": [
    {
     "output_type": "display_data",
     "data": {
      "application/javascript": "\n        if (window._pyforest_update_imports_cell) { window._pyforest_update_imports_cell('import pandas as pd'); }\n    ",
      "text/plain": [
       "<IPython.core.display.Javascript object>"
      ]
     },
     "metadata": {}
    },
    {
     "output_type": "execute_result",
     "data": {
      "text/html": [
       "<div>\n",
       "<style scoped>\n",
       "    .dataframe tbody tr th:only-of-type {\n",
       "        vertical-align: middle;\n",
       "    }\n",
       "\n",
       "    .dataframe tbody tr th {\n",
       "        vertical-align: top;\n",
       "    }\n",
       "\n",
       "    .dataframe thead th {\n",
       "        text-align: right;\n",
       "    }\n",
       "</style>\n",
       "<table border=\"1\" class=\"dataframe\">\n",
       "  <thead>\n",
       "    <tr style=\"text-align: right;\">\n",
       "      <th></th>\n",
       "      <th>0</th>\n",
       "      <th>1</th>\n",
       "      <th>2</th>\n",
       "      <th>3</th>\n",
       "      <th>4</th>\n",
       "    </tr>\n",
       "  </thead>\n",
       "  <tbody>\n",
       "    <tr>\n",
       "      <th>0</th>\n",
       "      <td>3.62160</td>\n",
       "      <td>8.6661</td>\n",
       "      <td>-2.8073</td>\n",
       "      <td>-0.44699</td>\n",
       "      <td>0</td>\n",
       "    </tr>\n",
       "    <tr>\n",
       "      <th>1</th>\n",
       "      <td>4.54590</td>\n",
       "      <td>8.1674</td>\n",
       "      <td>-2.4586</td>\n",
       "      <td>-1.46210</td>\n",
       "      <td>0</td>\n",
       "    </tr>\n",
       "    <tr>\n",
       "      <th>2</th>\n",
       "      <td>3.86600</td>\n",
       "      <td>-2.6383</td>\n",
       "      <td>1.9242</td>\n",
       "      <td>0.10645</td>\n",
       "      <td>0</td>\n",
       "    </tr>\n",
       "    <tr>\n",
       "      <th>3</th>\n",
       "      <td>3.45660</td>\n",
       "      <td>9.5228</td>\n",
       "      <td>-4.0112</td>\n",
       "      <td>-3.59440</td>\n",
       "      <td>0</td>\n",
       "    </tr>\n",
       "    <tr>\n",
       "      <th>4</th>\n",
       "      <td>0.32924</td>\n",
       "      <td>-4.4552</td>\n",
       "      <td>4.5718</td>\n",
       "      <td>-0.98880</td>\n",
       "      <td>0</td>\n",
       "    </tr>\n",
       "  </tbody>\n",
       "</table>\n",
       "</div>"
      ],
      "text/plain": [
       "         0       1       2        3  4\n",
       "0  3.62160  8.6661 -2.8073 -0.44699  0\n",
       "1  4.54590  8.1674 -2.4586 -1.46210  0\n",
       "2  3.86600 -2.6383  1.9242  0.10645  0\n",
       "3  3.45660  9.5228 -4.0112 -3.59440  0\n",
       "4  0.32924 -4.4552  4.5718 -0.98880  0"
      ]
     },
     "metadata": {},
     "execution_count": 6
    }
   ],
   "metadata": {}
  },
  {
   "cell_type": "code",
   "execution_count": null,
   "source": [],
   "outputs": [],
   "metadata": {}
  }
 ],
 "metadata": {
  "orig_nbformat": 4,
  "language_info": {
   "name": "python",
   "version": "3.9.7",
   "mimetype": "text/x-python",
   "codemirror_mode": {
    "name": "ipython",
    "version": 3
   },
   "pygments_lexer": "ipython3",
   "nbconvert_exporter": "python",
   "file_extension": ".py"
  },
  "kernelspec": {
   "name": "python3",
   "display_name": "Python 3.9.6 64-bit ('testpython': conda)"
  },
  "interpreter": {
   "hash": "3fe171fae952cbd1cc29b7a695da341c96661c4acb9af93385c120d747206b74"
  }
 },
 "nbformat": 4,
 "nbformat_minor": 2
}